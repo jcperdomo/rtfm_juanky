{
 "cells": [
  {
   "cell_type": "code",
   "execution_count": null,
   "id": "279ac4ee-a5bf-40b5-9f2a-2c536a1326a3",
   "metadata": {},
   "outputs": [],
   "source": [
    "# optional setup; use if the notebook is not running inside the rtfm conda environment\n",
    "!git clone https://github.com/mlfoundations/rtfm.git\n",
    "%cd rtfm\n",
    "\n",
    "# Ensure pip is up to date\n",
    "!pip install --upgrade pip\n",
    "\n",
    "# Install Python 3.8 using pip\n",
    "!pip install python==3.8\n",
    "\n",
    "# Install pip dependencies from requirements.txt\n",
    "!pip install -r requirements.txt\n",
    "\n",
    "# Install additional dependencies\n",
    "!pip install git+https://github.com/jpgard/llama-recipes.git\n",
    "!pip install -e .\n",
    "!pip install --no-deps git+https://github.com/mlfoundations/tableshift.git"
   ]
  },
  {
   "cell_type": "markdown",
   "id": "9ae8598ee797839f",
   "metadata": {
    "collapsed": false,
    "jupyter": {
     "outputs_hidden": false
    }
   },
   "source": [
    "# Inference with TabuLa-8B\n",
    "\n",
    "This notebook shows some example workflows of how to perform inference with TabuLa-8B. \n",
    "\n",
    "For best performance, this notebook should be run with access to a GPU.\n",
    "\n",
    "TabuLa-8B supports inference on zero- and few-shot tabular data (with the number of shots only limited by the context window of the model) and both categorical and continuous inputs. Below, we show examples of both. \n",
    "\n",
    "TabuLa's inference uses pandas DataFrames to construct examples for downstream inference. We directly construct Pandas DataFrames below, but you can also read DataFrames from CSV files or any other source that can be converted to DataFrame.\n",
    "\n",
    "**Note about evaluation with labeled data**: If you only want to perform efficient evaluation on data that is already labeled (i.e. to assess the accuracy of TabuLa on your own dataset), we provide separate code to do this which is likely to be more performant than the code in this notebook (which is optimized for simplicity/usability, not performance). Please see the README in the main repo for instructions on how to prepare your data for evaluation with our eval pipeline. Note that that eval pipeline (not the code in this notebook) is also what was used to evaluate TabuLa-8B on our [paper](https://arxiv.org/abs/2406.12031)."
   ]
  },
  {
   "cell_type": "markdown",
   "id": "14460216956d8859",
   "metadata": {
    "collapsed": false,
    "jupyter": {
     "outputs_hidden": false
    }
   },
   "source": [
    "# Model loading and setup\n",
    "\n",
    "First, load the model and tokenizer. It is important to use the TabuLa tokenizer (not the base Llama 3 tokenizer) due to the special tokens used for serialization."
   ]
  },
  {
   "cell_type": "code",
   "execution_count": 1,
   "id": "initial_id",
   "metadata": {
    "ExecuteTime": {
     "end_time": "2024-06-28T20:04:12.934625Z",
     "start_time": "2024-06-28T20:03:42.468103Z"
    }
   },
   "outputs": [
    {
     "name": "stderr",
     "output_type": "stream",
     "text": [
      "read user yaml files: 0it [00:00, ?it/s]\n",
      "/home/ubuntu/miniconda3/envs/rtfm/lib/python3.8/site-packages/huggingface_hub/file_download.py:1132: FutureWarning: `resume_download` is deprecated and will be removed in version 1.0.0. Downloads always resume when possible. If you want to force a new download, use `force_download=True`.\n",
      "  warnings.warn(\n"
     ]
    },
    {
     "data": {
      "application/vnd.jupyter.widget-view+json": {
       "model_id": "bad8dcad7f97417d92e055a8d00c0ced",
       "version_major": 2,
       "version_minor": 0
      },
      "text/plain": [
       "Loading checkpoint shards:   0%|          | 0/7 [00:00<?, ?it/s]"
      ]
     },
     "metadata": {},
     "output_type": "display_data"
    },
    {
     "name": "stderr",
     "output_type": "stream",
     "text": [
      "Special tokens have been added in the vocabulary, make sure the associated word embeddings are fine-tuned or trained.\n",
      "WARNING:root:adding special tokens {} to vocab\n",
      "WARNING:root:adding tokens {'eoc_token': '<|endcompletion|>', 'qa_sep_token': '<|endinput|>', 'ans_choices_sep_token': '||'} to vocab (as special tokens=True\n"
     ]
    }
   ],
   "source": [
    "import pandas as pd\n",
    "import torch\n",
    "from transformers import AutoTokenizer, LlamaForCausalLM, AutoConfig\n",
    "from statsmodels.stats.proportion import proportion_confint\n",
    "import random\n",
    "from rtfm.configs import TrainConfig, TokenizerConfig\n",
    "from rtfm.inference_utils import InferenceModel\n",
    "from rtfm.serialization.serializers import get_serializer\n",
    "from rtfm.tokenization.text import prepare_tokenizer\n",
    "\n",
    "train_config = TrainConfig(model_name=\"mlfoundations/tabula-8b\", context_length=8192)\n",
    "\n",
    "# If using a base llama model (not fine-tuned TabuLa),\n",
    "# make sure to set add_serializer_tokens=False\n",
    "# (because we do not want to use special tokens for \n",
    "# the base model which is not trained on them).\n",
    "tokenizer_config = TokenizerConfig()\n",
    "\n",
    "# Load the configuration\n",
    "config = AutoConfig.from_pretrained(train_config.model_name)\n",
    "\n",
    "# Set the torch_dtype to bfloat16 which matches TabuLa train/eval setup\n",
    "config.torch_dtype = 'bfloat16'\n",
    "\n",
    "device = \"cuda\" if torch.cuda.is_available() else \"cpu\"\n",
    "\n",
    "model = LlamaForCausalLM.from_pretrained(\n",
    "    train_config.model_name, device_map=\"auto\", config=config).to(device)\n",
    "\n",
    "tokenizer = AutoTokenizer.from_pretrained(train_config.model_name)\n",
    "serializer = get_serializer(train_config.serializer_cls)\n",
    "\n",
    "tokenizer, model = prepare_tokenizer(\n",
    "    model,\n",
    "    tokenizer=tokenizer,\n",
    "    pretrained_model_name_or_path=train_config.model_name,\n",
    "    model_max_length=train_config.context_length,\n",
    "    use_fast_tokenizer=tokenizer_config.use_fast_tokenizer,\n",
    "    serializer_tokens_embed_fn=tokenizer_config.serializer_tokens_embed_fn,\n",
    "    serializer_tokens=serializer.special_tokens\n",
    "    if tokenizer_config.add_serializer_tokens\n",
    "    else None,\n",
    ")\n",
    "\n",
    "inference_model = InferenceModel(model=model, tokenizer=tokenizer, serializer=serializer)"
   ]
  },
  {
   "cell_type": "markdown",
   "id": "d7eb7965984ae881",
   "metadata": {
    "collapsed": false,
    "jupyter": {
     "outputs_hidden": false
    }
   },
   "source": [
    "# Creating your own data for inference\n",
    "\n",
    "If you simply want to explore the model, or would like to construct your own data for inference, you can simply construct DataFrames to represent the labeled examples (\"shots\"), if any are used, and the target example that you want to predict on.\n",
    "\n",
    "Below is an example.\n"
   ]
  },
  {
   "cell_type": "code",
   "execution_count": 2,
   "id": "23d0aea1",
   "metadata": {},
   "outputs": [],
   "source": [
    "def get_embeddings(model, dataframe, target_colname, target_choices):\n",
    "    \"\"\"\n",
    "    computes model embeddings for examples\n",
    "    \"\"\"\n",
    "    result = []\n",
    "    for i in range(dataframe.shape[0]):\n",
    "        if i % 50 == 0:\n",
    "            print(i)\n",
    "        embedding = model.predict(\n",
    "            target_example=dataframe.iloc[[i]],\n",
    "            target_colname=target_colname,\n",
    "            target_choices=target_choices,\n",
    "            labeled_examples=None,\n",
    "            embed=True\n",
    "        )\n",
    "        result.append(embedding)\n",
    "    return torch.concat(result, axis=0)\n",
    "\n",
    "def select_examples(k, example_embeddings, target_embedding):\n",
    "    \"\"\"\n",
    "    selects examples according to cosine distance\n",
    "    \"\"\"\n",
    "    examples = torch.nn.functional.normalize(example_embeddings)\n",
    "    target = torch.nn.functional.normalize(target_embedding)\n",
    "    scores = torch.flatten(examples @ target.T)\n",
    "    return torch.topk(scores, k).indices.tolist()\n",
    "\n",
    "# compute accuracy with random examples\n",
    "def get_acc(df, embeddings, num_shots, use_rices, target_col, target_choices):\n",
    "    n = df.shape[0]\n",
    "    num_correct = 0\n",
    "    for i in range(n):\n",
    "        if i % 10 == 0:\n",
    "            print(i)\n",
    "        available_ixs = list(range(n))\n",
    "        del available_ixs[i]\n",
    "\n",
    "        if use_rices == False:\n",
    "            selected = random.choices(available_ixs, k=num_shots)\n",
    "        else:\n",
    "            selected = select_examples(num_shots, embeddings[available_ixs], embeddings[[i]])\n",
    "\n",
    "        output = inference_model.predict(\n",
    "            target_example=df.iloc[[i]],\n",
    "            target_colname=target_col,\n",
    "            max_new_tokens=10,\n",
    "            target_choices=target_choices,\n",
    "            labeled_examples=df.iloc[selected],\n",
    "        )\n",
    "\n",
    "        true_label = df.iloc[i][target_col]\n",
    "        print(output, true_label)\n",
    "        correct = int(output == true_label)\n",
    "        num_correct += correct\n",
    "\n",
    "    return num_correct / n"
   ]
  },
  {
   "cell_type": "code",
   "execution_count": 3,
   "id": "148c659b",
   "metadata": {},
   "outputs": [],
   "source": [
    "from datasets import load_dataset\n",
    "df_names = ['MagicTelescope', 'covertype', 'house_16H', 'Diabetes130US', 'Higgs']  \n",
    "df_list = []\n",
    "for name in df_names:     \n",
    "    dataset = load_dataset(\"inria-soda/tabular-benchmark\", data_files=\"clf_num/{}.csv\".format(name))\n",
    "    df = dataset['train'].to_pandas().astype(str).sample(frac=1).iloc[:1000]\n",
    "    df_list.append(df)"
   ]
  },
  {
   "cell_type": "code",
   "execution_count": null,
   "id": "c7419e50-1aab-4afe-a821-5d60422e3b87",
   "metadata": {},
   "outputs": [],
   "source": [
    "# df = pd.read_csv(\"../multiclass_logistic.csv\").astype(str)\n",
    "# TARGET_COL = 'y'\n",
    "# TARGET_CHOICES = list(df['y'].unique())"
   ]
  },
  {
   "cell_type": "code",
   "execution_count": null,
   "id": "ccfb3c95",
   "metadata": {},
   "outputs": [],
   "source": [
    "for df in df_list:\n",
    "    TARGET_COL = df.columns[-1]\n",
    "    TARGET_CHOICES = list(df[TARGET_COL].unique())\n",
    "    # print(TARGET_COL, TARGET_CHOICES)\n",
    "    target_example = df.iloc[[102]]\n",
    "    output = inference_model.predict(\n",
    "        target_example= target_example,\n",
    "        target_colname=TARGET_COL,\n",
    "        target_choices=TARGET_CHOICES,\n",
    "        max_new_tokens=10,\n",
    "        labeled_examples= df.iloc[[0]],\n",
    "    )\n",
    "    print(f\"Prediction for sample \\n {target_example} \\n is: {output}\")"
   ]
  },
  {
   "cell_type": "code",
   "execution_count": 4,
   "id": "8456fe17",
   "metadata": {},
   "outputs": [
    {
     "name": "stdout",
     "output_type": "stream",
     "text": [
      "0\n"
     ]
    },
    {
     "name": "stderr",
     "output_type": "stream",
     "text": [
      "/home/ubuntu/miniconda3/envs/rtfm/lib/python3.8/site-packages/pandas/core/frame.py:4906: SettingWithCopyWarning: \n",
      "A value is trying to be set on a copy of a slice from a DataFrame\n",
      "\n",
      "See the caveats in the documentation: https://pandas.pydata.org/pandas-docs/stable/user_guide/indexing.html#returning-a-view-versus-a-copy\n",
      "  return super().drop(\n"
     ]
    }
   ],
   "source": [
    "for i, df in enumerate(df_list):    \n",
    "    \n",
    "    TARGET_COL = df.columns[-1]\n",
    "    TARGET_CHOICES = list(df[TARGET_COL].unique())\n",
    "\n",
    "    df_embeddings = get_embeddings(inference_model, df, TARGET_COL, TARGET_CHOICES)\n",
    "    N = 1000\n",
    "    NUM_SHOTS = [2, 8]\n",
    "    # df = binary_df \n",
    "    results_df = []\n",
    "    for num_shots in NUM_SHOTS:\n",
    "        for use_rices in [True, False]:\n",
    "            acc = get_acc(df.iloc[:N], df_embeddings[:N], num_shots, use_rices, TARGET_COL, TARGET_CHOICES)\n",
    "            ci = proportion_confint(int(acc * N), N, alpha=0.05, method='beta')\n",
    "            res = {\"RICES\": use_rices, \"num_shots\": num_shots, \"acc\": acc, 'n_test': N, 'ci': ci}\n",
    "            print(res)\n",
    "            results_df.append(res)\n",
    "\n",
    "    results_df = pd.DataFrame(results_df)\n",
    "    results_df.to_csv('{}_rices_{}.csv'.format(df_names[i], N), index=False)"
   ]
  },
  {
   "cell_type": "code",
   "execution_count": null,
   "id": "afe04ca8",
   "metadata": {},
   "outputs": [],
   "source": [
    "results_df"
   ]
  },
  {
   "cell_type": "code",
   "execution_count": null,
   "id": "7766c123",
   "metadata": {},
   "outputs": [],
   "source": [
    "n=100\n",
    "proportion_confint(int(.8 * n), n, alpha=0.05, method='beta')"
   ]
  },
  {
   "cell_type": "code",
   "execution_count": null,
   "id": "9e4d4af9",
   "metadata": {},
   "outputs": [],
   "source": []
  }
 ],
 "metadata": {
  "kernelspec": {
   "display_name": "Python 3 (ipykernel)",
   "language": "python",
   "name": "python3"
  },
  "language_info": {
   "codemirror_mode": {
    "name": "ipython",
    "version": 3
   },
   "file_extension": ".py",
   "mimetype": "text/x-python",
   "name": "python",
   "nbconvert_exporter": "python",
   "pygments_lexer": "ipython3",
   "version": "3.8.19"
  }
 },
 "nbformat": 4,
 "nbformat_minor": 5
}
