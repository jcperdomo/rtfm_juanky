{
 "cells": [
  {
   "cell_type": "code",
   "execution_count": null,
   "id": "279ac4ee-a5bf-40b5-9f2a-2c536a1326a3",
   "metadata": {},
   "outputs": [],
   "source": [
    "# optional setup; use if the notebook is not running inside the rtfm conda environment\n",
    "!git clone https://github.com/mlfoundations/rtfm.git\n",
    "%cd rtfm\n",
    "\n",
    "# Ensure pip is up to date\n",
    "!pip install --upgrade pip\n",
    "\n",
    "# Install Python 3.8 using pip\n",
    "!pip install python==3.8\n",
    "\n",
    "# Install pip dependencies from requirements.txt\n",
    "!pip install -r requirements.txt\n",
    "\n",
    "# Install additional dependencies\n",
    "!pip install git+https://github.com/jpgard/llama-recipes.git\n",
    "!pip install -e .\n",
    "!pip install --no-deps git+https://github.com/mlfoundations/tableshift.git"
   ]
  },
  {
   "cell_type": "markdown",
   "id": "9ae8598ee797839f",
   "metadata": {
    "collapsed": false,
    "jupyter": {
     "outputs_hidden": false
    }
   },
   "source": [
    "# Inference with TabuLa-8B\n",
    "\n",
    "This notebook shows some example workflows of how to perform inference with TabuLa-8B. \n",
    "\n",
    "For best performance, this notebook should be run with access to a GPU.\n",
    "\n",
    "TabuLa-8B supports inference on zero- and few-shot tabular data (with the number of shots only limited by the context window of the model) and both categorical and continuous inputs. Below, we show examples of both. \n",
    "\n",
    "TabuLa's inference uses pandas DataFrames to construct examples for downstream inference. We directly construct Pandas DataFrames below, but you can also read DataFrames from CSV files or any other source that can be converted to DataFrame.\n",
    "\n",
    "**Note about evaluation with labeled data**: If you only want to perform efficient evaluation on data that is already labeled (i.e. to assess the accuracy of TabuLa on your own dataset), we provide separate code to do this which is likely to be more performant than the code in this notebook (which is optimized for simplicity/usability, not performance). Please see the README in the main repo for instructions on how to prepare your data for evaluation with our eval pipeline. Note that that eval pipeline (not the code in this notebook) is also what was used to evaluate TabuLa-8B on our [paper](https://arxiv.org/abs/2406.12031)."
   ]
  },
  {
   "cell_type": "markdown",
   "id": "14460216956d8859",
   "metadata": {
    "collapsed": false,
    "jupyter": {
     "outputs_hidden": false
    }
   },
   "source": [
    "# Model loading and setup\n",
    "\n",
    "First, load the model and tokenizer. It is important to use the TabuLa tokenizer (not the base Llama 3 tokenizer) due to the special tokens used for serialization."
   ]
  },
  {
   "cell_type": "code",
   "execution_count": 1,
   "id": "initial_id",
   "metadata": {
    "ExecuteTime": {
     "end_time": "2024-06-28T20:04:12.934625Z",
     "start_time": "2024-06-28T20:03:42.468103Z"
    }
   },
   "outputs": [
    {
     "name": "stderr",
     "output_type": "stream",
     "text": [
      "/home/ubuntu/miniconda3/envs/rtfm/lib/python3.8/site-packages/tqdm/auto.py:21: TqdmWarning: IProgress not found. Please update jupyter and ipywidgets. See https://ipywidgets.readthedocs.io/en/stable/user_install.html\n",
      "  from .autonotebook import tqdm as notebook_tqdm\n",
      "2024-07-19 17:04:02,804\tINFO util.py:154 -- Missing packages: ['ipywidgets']. Run `pip install -U ipywidgets`, then restart the notebook server for rich notebook output.\n",
      "2024-07-19 17:04:02,984\tINFO util.py:154 -- Missing packages: ['ipywidgets']. Run `pip install -U ipywidgets`, then restart the notebook server for rich notebook output.\n",
      "read user yaml files: 0it [00:00, ?it/s]\n",
      "/home/ubuntu/miniconda3/envs/rtfm/lib/python3.8/site-packages/huggingface_hub/file_download.py:1150: FutureWarning: `resume_download` is deprecated and will be removed in version 1.0.0. Downloads always resume when possible. If you want to force a new download, use `force_download=True`.\n",
      "  warnings.warn(\n",
      "Loading checkpoint shards: 100%|██████████| 7/7 [00:05<00:00,  1.28it/s]\n",
      "Special tokens have been added in the vocabulary, make sure the associated word embeddings are fine-tuned or trained.\n",
      "WARNING:root:adding special tokens {} to vocab\n",
      "WARNING:root:adding tokens {'eoc_token': '<|endcompletion|>', 'qa_sep_token': '<|endinput|>', 'ans_choices_sep_token': '||'} to vocab (as special tokens=True\n"
     ]
    }
   ],
   "source": [
    "import pandas as pd\n",
    "import torch\n",
    "import numpy as np\n",
    "import statsmodels.formula.api as sm\n",
    "from transformers import AutoTokenizer, LlamaForCausalLM, AutoConfig\n",
    "from statsmodels.stats.proportion import proportion_confint\n",
    "import random\n",
    "from rtfm.configs import TrainConfig, TokenizerConfig\n",
    "from rtfm.inference_utils import InferenceModel\n",
    "from rtfm.serialization.serializers import get_serializer\n",
    "from rtfm.tokenization.text import prepare_tokenizer\n",
    "\n",
    "train_config = TrainConfig(model_name=\"mlfoundations/tabula-8b\", context_length=8192)\n",
    "\n",
    "# If using a base llama model (not fine-tuned TabuLa),\n",
    "# make sure to set add_serializer_tokens=False\n",
    "# (because we do not want to use special tokens for \n",
    "# the base model which is not trained on them).\n",
    "tokenizer_config = TokenizerConfig()\n",
    "\n",
    "# Load the configuration\n",
    "config = AutoConfig.from_pretrained(train_config.model_name)\n",
    "\n",
    "# Set the torch_dtype to bfloat16 which matches TabuLa train/eval setup\n",
    "config.torch_dtype = 'bfloat16'\n",
    "\n",
    "device = \"cuda\" if torch.cuda.is_available() else \"cpu\"\n",
    "\n",
    "model = LlamaForCausalLM.from_pretrained(\n",
    "    train_config.model_name, device_map=\"auto\", config=config).to(device)\n",
    "\n",
    "tokenizer = AutoTokenizer.from_pretrained(train_config.model_name)\n",
    "serializer = get_serializer(train_config.serializer_cls)\n",
    "\n",
    "tokenizer, model = prepare_tokenizer(\n",
    "    model,\n",
    "    tokenizer=tokenizer,\n",
    "    pretrained_model_name_or_path=train_config.model_name,\n",
    "    model_max_length=train_config.context_length,\n",
    "    use_fast_tokenizer=tokenizer_config.use_fast_tokenizer,\n",
    "    serializer_tokens_embed_fn=tokenizer_config.serializer_tokens_embed_fn,\n",
    "    serializer_tokens=serializer.special_tokens\n",
    "    if tokenizer_config.add_serializer_tokens\n",
    "    else None,\n",
    ")\n",
    "\n",
    "inference_model = InferenceModel(model=model, tokenizer=tokenizer, serializer=serializer)"
   ]
  },
  {
   "cell_type": "markdown",
   "id": "d7eb7965984ae881",
   "metadata": {
    "collapsed": false,
    "jupyter": {
     "outputs_hidden": false
    }
   },
   "source": [
    "# Creating your own data for inference\n",
    "\n",
    "If you simply want to explore the model, or would like to construct your own data for inference, you can simply construct DataFrames to represent the labeled examples (\"shots\"), if any are used, and the target example that you want to predict on.\n",
    "\n",
    "Below is an example.\n"
   ]
  },
  {
   "cell_type": "code",
   "execution_count": 2,
   "id": "23d0aea1",
   "metadata": {},
   "outputs": [],
   "source": [
    "def get_embeddings(model, dataframe, target_colname, target_choices):\n",
    "    \"\"\"\n",
    "    computes model embeddings for examples\n",
    "    \"\"\"\n",
    "    result = []\n",
    "    for i in range(dataframe.shape[0]):\n",
    "        if i % 50 == 0:\n",
    "            print(i)\n",
    "        embedding = model.predict(\n",
    "            target_example=dataframe.iloc[[i]],\n",
    "            target_colname=target_colname,\n",
    "            target_choices=target_choices,\n",
    "            labeled_examples=None,\n",
    "            embed=True\n",
    "        )\n",
    "        result.append(embedding)\n",
    "    return torch.concat(result, axis=0)\n",
    "\n",
    "def select_examples(k, example_embeddings, target_embedding):\n",
    "    \"\"\"\n",
    "    selects examples according to cosine distance\n",
    "    \"\"\"\n",
    "    examples = torch.nn.functional.normalize(example_embeddings)\n",
    "    target = torch.nn.functional.normalize(target_embedding)\n",
    "    scores = torch.flatten(examples @ target.T)\n",
    "    return torch.topk(scores, k).indices.tolist()\n",
    "\n",
    "# compute accuracy with random examples\n",
    "def get_acc(df, embeddings, num_shots, use_rices, target_col, target_choices):\n",
    "    n = df.shape[0]\n",
    "    num_correct = 0\n",
    "    for i in range(n):\n",
    "        if i % 10 == 0:\n",
    "            print(i)\n",
    "        available_ixs = list(range(n))\n",
    "        del available_ixs[i]\n",
    "\n",
    "        if use_rices == False:\n",
    "            selected = random.choices(available_ixs, k=num_shots)\n",
    "        else:\n",
    "            selected = select_examples(num_shots, embeddings[available_ixs], embeddings[[i]])\n",
    "\n",
    "        output = inference_model.predict(\n",
    "            target_example=df.iloc[[i]],\n",
    "            target_colname=target_col,\n",
    "            max_new_tokens=10,\n",
    "            target_choices=target_choices,\n",
    "            labeled_examples=df.iloc[selected],\n",
    "        )\n",
    "\n",
    "        true_label = df.iloc[i][target_col]\n",
    "        print(output, true_label)\n",
    "        correct = int(output == true_label)\n",
    "        num_correct += correct\n",
    "\n",
    "    return num_correct / n"
   ]
  },
  {
   "cell_type": "code",
   "execution_count": 3,
   "id": "f65ce396",
   "metadata": {},
   "outputs": [],
   "source": [
    "n,d = 1000, 2\n",
    "X = np.random.randn(n,d)\n",
    "beta = np.sign(np.random.randn(d))\n",
    "y = X @ beta + .5 * np.random.randn(n)\n",
    "data_matrix =  np.concatenate([X, y.reshape(-1,1)], axis=1)\n",
    "columns = ['x0', 'x1', 'y']\n",
    "regression_df = pd.DataFrame(data=data_matrix, columns=columns)"
   ]
  },
  {
   "cell_type": "code",
   "execution_count": 4,
   "id": "4bdf14c1",
   "metadata": {},
   "outputs": [
    {
     "name": "stdout",
     "output_type": "stream",
     "text": [
      "                            OLS Regression Results                            \n",
      "==============================================================================\n",
      "Dep. Variable:                      y   R-squared:                       0.883\n",
      "Model:                            OLS   Adj. R-squared:                  0.882\n",
      "Method:                 Least Squares   F-statistic:                     3749.\n",
      "Date:                Fri, 19 Jul 2024   Prob (F-statistic):               0.00\n",
      "Time:                        17:04:16   Log-Likelihood:                -738.91\n",
      "No. Observations:                1000   AIC:                             1484.\n",
      "Df Residuals:                     997   BIC:                             1499.\n",
      "Df Model:                           2                                         \n",
      "Covariance Type:            nonrobust                                         \n",
      "==============================================================================\n",
      "                 coef    std err          t      P>|t|      [0.025      0.975]\n",
      "------------------------------------------------------------------------------\n",
      "Intercept     -0.0053      0.016     -0.329      0.742      -0.037       0.026\n",
      "x0            -0.9980      0.016    -62.671      0.000      -1.029      -0.967\n",
      "x1             1.0008      0.016     62.756      0.000       0.970       1.032\n",
      "==============================================================================\n",
      "Omnibus:                        1.427   Durbin-Watson:                   1.992\n",
      "Prob(Omnibus):                  0.490   Jarque-Bera (JB):                1.302\n",
      "Skew:                           0.051   Prob(JB):                        0.522\n",
      "Kurtosis:                       3.144   Cond. No.                         1.08\n",
      "==============================================================================\n",
      "\n",
      "Notes:\n",
      "[1] Standard Errors assume that the covariance matrix of the errors is correctly specified.\n"
     ]
    },
    {
     "data": {
      "text/plain": [
       "array([-1.,  1.])"
      ]
     },
     "execution_count": 4,
     "metadata": {},
     "output_type": "execute_result"
    }
   ],
   "source": [
    "result = sm.ols(formula=\"y ~ x0 + x1\", data=regression_df).fit()\n",
    "print(result.summary())\n",
    "beta"
   ]
  },
  {
   "cell_type": "code",
   "execution_count": 23,
   "id": "016faae8",
   "metadata": {},
   "outputs": [],
   "source": [
    "from datasets import load_dataset\n",
    "dataset = load_dataset(\"inria-soda/tabular-benchmark\", data_files=\"reg_cat/house_sales.csv\")\n",
    "dataset = dataset['train'].to_pandas().sample(frac=1).iloc[:1000]"
   ]
  },
  {
   "cell_type": "code",
   "execution_count": 26,
   "id": "4978c5db",
   "metadata": {},
   "outputs": [
    {
     "data": {
      "text/plain": [
       "14.978661680269909"
      ]
     },
     "execution_count": 26,
     "metadata": {},
     "output_type": "execute_result"
    }
   ],
   "source": [
    "dataset['price'].max()"
   ]
  },
  {
   "cell_type": "code",
   "execution_count": 35,
   "id": "33e90de2",
   "metadata": {},
   "outputs": [
    {
     "data": {
      "text/plain": [
       "-4"
      ]
     },
     "execution_count": 35,
     "metadata": {},
     "output_type": "execute_result"
    }
   ],
   "source": [
    "b- a"
   ]
  },
  {
   "cell_type": "code",
   "execution_count": 5,
   "id": "39a479b5",
   "metadata": {},
   "outputs": [
    {
     "name": "stdout",
     "output_type": "stream",
     "text": [
      "example 0\n",
      "----------------------\n",
      "true label  0.2914005109299471\n",
      "-5 5\n",
      "Class Balance  0.485\n"
     ]
    },
    {
     "name": "stderr",
     "output_type": "stream",
     "text": [
      "/home/ubuntu/miniconda3/envs/rtfm/lib/python3.8/site-packages/pandas/core/frame.py:4906: SettingWithCopyWarning: \n",
      "A value is trying to be set on a copy of a slice from a DataFrame\n",
      "\n",
      "See the caveats in the documentation: https://pandas.pydata.org/pandas-docs/stable/user_guide/indexing.html#returning-a-view-versus-a-copy\n",
      "  return super().drop(\n",
      "Setting `pad_token_id` to `eos_token_id`:128001 for open-end generation.\n"
     ]
    },
    {
     "name": "stdout",
     "output_type": "stream",
     "text": [
      "0 <class 'str'>\n",
      "-5 0.0\n",
      "Class Balance  0.945\n"
     ]
    },
    {
     "name": "stderr",
     "output_type": "stream",
     "text": [
      "Setting `pad_token_id` to `eos_token_id`:128001 for open-end generation.\n"
     ]
    },
    {
     "name": "stdout",
     "output_type": "stream",
     "text": [
      "1 <class 'str'>\n",
      "-2.5 0.0\n",
      "Class Balance  0.808\n"
     ]
    },
    {
     "name": "stderr",
     "output_type": "stream",
     "text": [
      "Setting `pad_token_id` to `eos_token_id`:128001 for open-end generation.\n"
     ]
    },
    {
     "name": "stdout",
     "output_type": "stream",
     "text": [
      "1 <class 'str'>\n",
      "-1.25 0.0\n",
      "Class Balance  0.66\n"
     ]
    },
    {
     "name": "stderr",
     "output_type": "stream",
     "text": [
      "Setting `pad_token_id` to `eos_token_id`:128001 for open-end generation.\n"
     ]
    },
    {
     "name": "stdout",
     "output_type": "stream",
     "text": [
      "1 <class 'str'>\n",
      "-0.625 0.0\n",
      "Class Balance  0.574\n"
     ]
    },
    {
     "name": "stderr",
     "output_type": "stream",
     "text": [
      "Setting `pad_token_id` to `eos_token_id`:128001 for open-end generation.\n"
     ]
    },
    {
     "name": "stdout",
     "output_type": "stream",
     "text": [
      "1 <class 'str'>\n",
      "-0.3125 0.0\n",
      "Class Balance  0.527\n"
     ]
    },
    {
     "name": "stderr",
     "output_type": "stream",
     "text": [
      "Setting `pad_token_id` to `eos_token_id`:128001 for open-end generation.\n"
     ]
    },
    {
     "name": "stdout",
     "output_type": "stream",
     "text": [
      "0 <class 'str'>\n",
      "-0.3125 -0.15625\n",
      "Class Balance  0.549\n"
     ]
    },
    {
     "name": "stderr",
     "output_type": "stream",
     "text": [
      "Setting `pad_token_id` to `eos_token_id`:128001 for open-end generation.\n",
      "Setting `pad_token_id` to `eos_token_id`:128001 for open-end generation.\n"
     ]
    },
    {
     "name": "stdout",
     "output_type": "stream",
     "text": [
      "1 <class 'str'>\n",
      "-0.234375 -0.15625\n",
      "Class Balance  0.539\n"
     ]
    },
    {
     "name": "stderr",
     "output_type": "stream",
     "text": [
      "Setting `pad_token_id` to `eos_token_id`:128001 for open-end generation.\n"
     ]
    },
    {
     "name": "stdout",
     "output_type": "stream",
     "text": [
      "0 <class 'str'>\n",
      "-0.234375 -0.1953125\n",
      "Class Balance  0.546\n"
     ]
    },
    {
     "name": "stderr",
     "output_type": "stream",
     "text": [
      "Setting `pad_token_id` to `eos_token_id`:128001 for open-end generation.\n"
     ]
    },
    {
     "name": "stdout",
     "output_type": "stream",
     "text": [
      "1 <class 'str'>\n",
      "-0.21484375 -0.1953125\n",
      "Class Balance  0.54\n",
      "0 <class 'str'>\n",
      "prediction  -0.205078125\n",
      "example 1\n",
      "----------------------\n",
      "true label  -2.0280126870988355\n",
      "-5 5\n",
      "Class Balance  0.485\n"
     ]
    },
    {
     "name": "stderr",
     "output_type": "stream",
     "text": [
      "Setting `pad_token_id` to `eos_token_id`:128001 for open-end generation.\n"
     ]
    },
    {
     "name": "stdout",
     "output_type": "stream",
     "text": [
      "0 <class 'str'>\n",
      "-5 0.0\n",
      "Class Balance  0.945\n"
     ]
    },
    {
     "name": "stderr",
     "output_type": "stream",
     "text": [
      "Setting `pad_token_id` to `eos_token_id`:128001 for open-end generation.\n"
     ]
    },
    {
     "name": "stdout",
     "output_type": "stream",
     "text": [
      "1 <class 'str'>\n",
      "-2.5 0.0\n",
      "Class Balance  0.808\n"
     ]
    },
    {
     "name": "stderr",
     "output_type": "stream",
     "text": [
      "Setting `pad_token_id` to `eos_token_id`:128001 for open-end generation.\n"
     ]
    },
    {
     "name": "stdout",
     "output_type": "stream",
     "text": [
      "0 <class 'str'>\n",
      "-2.5 -1.25\n",
      "Class Balance  0.896\n"
     ]
    },
    {
     "name": "stderr",
     "output_type": "stream",
     "text": [
      "Setting `pad_token_id` to `eos_token_id`:128001 for open-end generation.\n"
     ]
    },
    {
     "name": "stdout",
     "output_type": "stream",
     "text": [
      "1 <class 'str'>\n",
      "-1.875 -1.25\n",
      "Class Balance  0.857\n"
     ]
    },
    {
     "name": "stderr",
     "output_type": "stream",
     "text": [
      "Setting `pad_token_id` to `eos_token_id`:128001 for open-end generation.\n"
     ]
    },
    {
     "name": "stdout",
     "output_type": "stream",
     "text": [
      "1 <class 'str'>\n",
      "-1.5625 -1.25\n",
      "Class Balance  0.829\n"
     ]
    },
    {
     "name": "stderr",
     "output_type": "stream",
     "text": [
      "Setting `pad_token_id` to `eos_token_id`:128001 for open-end generation.\n",
      "Setting `pad_token_id` to `eos_token_id`:128001 for open-end generation.\n"
     ]
    },
    {
     "name": "stdout",
     "output_type": "stream",
     "text": [
      "0 <class 'str'>\n",
      "-1.5625 -1.40625\n",
      "Class Balance  0.842\n"
     ]
    },
    {
     "name": "stderr",
     "output_type": "stream",
     "text": [
      "Setting `pad_token_id` to `eos_token_id`:128001 for open-end generation.\n"
     ]
    },
    {
     "name": "stdout",
     "output_type": "stream",
     "text": [
      "0 <class 'str'>\n",
      "-1.5625 -1.484375\n",
      "Class Balance  0.849\n"
     ]
    },
    {
     "name": "stderr",
     "output_type": "stream",
     "text": [
      "Setting `pad_token_id` to `eos_token_id`:128001 for open-end generation.\n"
     ]
    },
    {
     "name": "stdout",
     "output_type": "stream",
     "text": [
      "0 <class 'str'>\n",
      "-1.5625 -1.5234375\n",
      "Class Balance  0.851\n"
     ]
    },
    {
     "name": "stderr",
     "output_type": "stream",
     "text": [
      "Setting `pad_token_id` to `eos_token_id`:128001 for open-end generation.\n"
     ]
    },
    {
     "name": "stdout",
     "output_type": "stream",
     "text": [
      "0 <class 'str'>\n",
      "-1.5625 -1.54296875\n",
      "Class Balance  0.855\n",
      "0 <class 'str'>\n",
      "prediction  -1.552734375\n",
      "example 2\n",
      "----------------------\n",
      "true label  -0.6965218311586665\n",
      "-5 5\n",
      "Class Balance  0.485\n"
     ]
    },
    {
     "name": "stderr",
     "output_type": "stream",
     "text": [
      "Setting `pad_token_id` to `eos_token_id`:128001 for open-end generation.\n"
     ]
    },
    {
     "name": "stdout",
     "output_type": "stream",
     "text": [
      "1 <class 'str'>\n",
      "0.0 5\n",
      "Class Balance  0.04\n"
     ]
    },
    {
     "name": "stderr",
     "output_type": "stream",
     "text": [
      "Setting `pad_token_id` to `eos_token_id`:128001 for open-end generation.\n"
     ]
    },
    {
     "name": "stdout",
     "output_type": "stream",
     "text": [
      "0 <class 'str'>\n",
      "0.0 2.5\n",
      "Class Balance  0.175\n"
     ]
    },
    {
     "name": "stderr",
     "output_type": "stream",
     "text": [
      "Setting `pad_token_id` to `eos_token_id`:128001 for open-end generation.\n"
     ]
    },
    {
     "name": "stdout",
     "output_type": "stream",
     "text": [
      "0 <class 'str'>\n",
      "0.0 1.25\n",
      "Class Balance  0.316\n"
     ]
    },
    {
     "name": "stderr",
     "output_type": "stream",
     "text": [
      "Setting `pad_token_id` to `eos_token_id`:128001 for open-end generation.\n"
     ]
    },
    {
     "name": "stdout",
     "output_type": "stream",
     "text": [
      "0 <class 'str'>\n",
      "0.0 0.625\n",
      "Class Balance  0.392\n"
     ]
    },
    {
     "name": "stderr",
     "output_type": "stream",
     "text": [
      "Setting `pad_token_id` to `eos_token_id`:128001 for open-end generation.\n",
      "Setting `pad_token_id` to `eos_token_id`:128001 for open-end generation.\n"
     ]
    },
    {
     "name": "stdout",
     "output_type": "stream",
     "text": [
      "0 <class 'str'>\n",
      "0.0 0.3125\n",
      "Class Balance  0.435\n"
     ]
    },
    {
     "name": "stderr",
     "output_type": "stream",
     "text": [
      "Setting `pad_token_id` to `eos_token_id`:128001 for open-end generation.\n"
     ]
    },
    {
     "name": "stdout",
     "output_type": "stream",
     "text": [
      "1 <class 'str'>\n",
      "0.15625 0.3125\n",
      "Class Balance  0.413\n"
     ]
    },
    {
     "name": "stderr",
     "output_type": "stream",
     "text": [
      "Setting `pad_token_id` to `eos_token_id`:128001 for open-end generation.\n"
     ]
    },
    {
     "name": "stdout",
     "output_type": "stream",
     "text": [
      "0 <class 'str'>\n",
      "0.15625 0.234375\n",
      "Class Balance  0.424\n"
     ]
    },
    {
     "name": "stderr",
     "output_type": "stream",
     "text": [
      "Setting `pad_token_id` to `eos_token_id`:128001 for open-end generation.\n"
     ]
    },
    {
     "name": "stdout",
     "output_type": "stream",
     "text": [
      "1 <class 'str'>\n",
      "0.1953125 0.234375\n",
      "Class Balance  0.419\n"
     ]
    },
    {
     "name": "stderr",
     "output_type": "stream",
     "text": [
      "Setting `pad_token_id` to `eos_token_id`:128001 for open-end generation.\n"
     ]
    },
    {
     "name": "stdout",
     "output_type": "stream",
     "text": [
      "1 <class 'str'>\n",
      "0.21484375 0.234375\n",
      "Class Balance  0.416\n",
      "1 <class 'str'>\n",
      "prediction  0.224609375\n",
      "example 3\n",
      "----------------------\n",
      "true label  0.4402381812634629\n",
      "-5 5\n",
      "Class Balance  0.485\n"
     ]
    },
    {
     "name": "stderr",
     "output_type": "stream",
     "text": [
      "Setting `pad_token_id` to `eos_token_id`:128001 for open-end generation.\n"
     ]
    },
    {
     "name": "stdout",
     "output_type": "stream",
     "text": [
      "0 <class 'str'>\n",
      "-5 0.0\n",
      "Class Balance  0.945\n"
     ]
    },
    {
     "name": "stderr",
     "output_type": "stream",
     "text": [
      "Setting `pad_token_id` to `eos_token_id`:128001 for open-end generation.\n"
     ]
    },
    {
     "name": "stdout",
     "output_type": "stream",
     "text": [
      "1 <class 'str'>\n",
      "-2.5 0.0\n",
      "Class Balance  0.808\n"
     ]
    },
    {
     "name": "stderr",
     "output_type": "stream",
     "text": [
      "Setting `pad_token_id` to `eos_token_id`:128001 for open-end generation.\n"
     ]
    },
    {
     "name": "stdout",
     "output_type": "stream",
     "text": [
      "1 <class 'str'>\n",
      "-1.25 0.0\n",
      "Class Balance  0.66\n"
     ]
    },
    {
     "name": "stderr",
     "output_type": "stream",
     "text": [
      "Setting `pad_token_id` to `eos_token_id`:128001 for open-end generation.\n"
     ]
    },
    {
     "name": "stdout",
     "output_type": "stream",
     "text": [
      "1 <class 'str'>\n",
      "-0.625 0.0\n",
      "Class Balance  0.574\n"
     ]
    },
    {
     "name": "stderr",
     "output_type": "stream",
     "text": [
      "Setting `pad_token_id` to `eos_token_id`:128001 for open-end generation.\n"
     ]
    },
    {
     "name": "stdout",
     "output_type": "stream",
     "text": [
      "0 <class 'str'>\n",
      "-0.625 -0.3125\n",
      "Class Balance  0.618\n"
     ]
    },
    {
     "name": "stderr",
     "output_type": "stream",
     "text": [
      "Setting `pad_token_id` to `eos_token_id`:128001 for open-end generation.\n"
     ]
    },
    {
     "name": "stdout",
     "output_type": "stream",
     "text": [
      "1 <class 'str'>\n",
      "-0.46875 -0.3125\n",
      "Class Balance  0.597\n"
     ]
    },
    {
     "name": "stderr",
     "output_type": "stream",
     "text": [
      "Setting `pad_token_id` to `eos_token_id`:128001 for open-end generation.\n",
      "Setting `pad_token_id` to `eos_token_id`:128001 for open-end generation.\n"
     ]
    },
    {
     "name": "stdout",
     "output_type": "stream",
     "text": [
      "1 <class 'str'>\n",
      "-0.390625 -0.3125\n",
      "Class Balance  0.582\n"
     ]
    },
    {
     "name": "stderr",
     "output_type": "stream",
     "text": [
      "Setting `pad_token_id` to `eos_token_id`:128001 for open-end generation.\n"
     ]
    },
    {
     "name": "stdout",
     "output_type": "stream",
     "text": [
      "1 <class 'str'>\n",
      "-0.3515625 -0.3125\n",
      "Class Balance  0.576\n"
     ]
    },
    {
     "name": "stderr",
     "output_type": "stream",
     "text": [
      "Setting `pad_token_id` to `eos_token_id`:128001 for open-end generation.\n"
     ]
    },
    {
     "name": "stdout",
     "output_type": "stream",
     "text": [
      "1 <class 'str'>\n",
      "-0.33203125 -0.3125\n",
      "Class Balance  0.575\n",
      "0 <class 'str'>\n",
      "prediction  -0.322265625\n",
      "example 4\n",
      "----------------------\n",
      "true label  0.29885399184183087\n",
      "-5 5\n",
      "Class Balance  0.485\n"
     ]
    },
    {
     "name": "stderr",
     "output_type": "stream",
     "text": [
      "Setting `pad_token_id` to `eos_token_id`:128001 for open-end generation.\n"
     ]
    },
    {
     "name": "stdout",
     "output_type": "stream",
     "text": [
      "0 <class 'str'>\n",
      "-5 0.0\n",
      "Class Balance  0.945\n"
     ]
    },
    {
     "name": "stderr",
     "output_type": "stream",
     "text": [
      "Setting `pad_token_id` to `eos_token_id`:128001 for open-end generation.\n"
     ]
    },
    {
     "name": "stdout",
     "output_type": "stream",
     "text": [
      "1 <class 'str'>\n",
      "-2.5 0.0\n",
      "Class Balance  0.808\n"
     ]
    },
    {
     "name": "stderr",
     "output_type": "stream",
     "text": [
      "Setting `pad_token_id` to `eos_token_id`:128001 for open-end generation.\n"
     ]
    },
    {
     "name": "stdout",
     "output_type": "stream",
     "text": [
      "1 <class 'str'>\n",
      "-1.25 0.0\n",
      "Class Balance  0.66\n"
     ]
    },
    {
     "name": "stderr",
     "output_type": "stream",
     "text": [
      "Setting `pad_token_id` to `eos_token_id`:128001 for open-end generation.\n"
     ]
    },
    {
     "name": "stdout",
     "output_type": "stream",
     "text": [
      "1 <class 'str'>\n",
      "-0.625 0.0\n",
      "Class Balance  0.574\n"
     ]
    },
    {
     "name": "stderr",
     "output_type": "stream",
     "text": [
      "Setting `pad_token_id` to `eos_token_id`:128001 for open-end generation.\n"
     ]
    },
    {
     "name": "stdout",
     "output_type": "stream",
     "text": [
      "0 <class 'str'>\n",
      "-0.625 -0.3125\n",
      "Class Balance  0.618\n"
     ]
    },
    {
     "name": "stderr",
     "output_type": "stream",
     "text": [
      "Setting `pad_token_id` to `eos_token_id`:128001 for open-end generation.\n",
      "Setting `pad_token_id` to `eos_token_id`:128001 for open-end generation.\n"
     ]
    },
    {
     "name": "stdout",
     "output_type": "stream",
     "text": [
      "1 <class 'str'>\n",
      "-0.46875 -0.3125\n",
      "Class Balance  0.597\n"
     ]
    },
    {
     "name": "stderr",
     "output_type": "stream",
     "text": [
      "Setting `pad_token_id` to `eos_token_id`:128001 for open-end generation.\n"
     ]
    },
    {
     "name": "stdout",
     "output_type": "stream",
     "text": [
      "1 <class 'str'>\n",
      "-0.390625 -0.3125\n",
      "Class Balance  0.582\n"
     ]
    },
    {
     "name": "stderr",
     "output_type": "stream",
     "text": [
      "Setting `pad_token_id` to `eos_token_id`:128001 for open-end generation.\n"
     ]
    },
    {
     "name": "stdout",
     "output_type": "stream",
     "text": [
      "1 <class 'str'>\n",
      "-0.3515625 -0.3125\n",
      "Class Balance  0.576\n"
     ]
    },
    {
     "name": "stderr",
     "output_type": "stream",
     "text": [
      "Setting `pad_token_id` to `eos_token_id`:128001 for open-end generation.\n"
     ]
    },
    {
     "name": "stdout",
     "output_type": "stream",
     "text": [
      "0 <class 'str'>\n",
      "-0.3515625 -0.33203125\n",
      "Class Balance  0.579\n",
      "1 <class 'str'>\n",
      "prediction  -0.341796875\n"
     ]
    }
   ],
   "source": [
    "df = regression_df \n",
    "TARGET_COL = 'y'\n",
    "init_a = -5\n",
    "init_b = 5\n",
    "preds = []\n",
    "for i in range(5):\n",
    "    \n",
    "    print('example {}'.format(i))\n",
    "    a = init_a\n",
    "    b = init_b\n",
    "    tol = .01\n",
    "\n",
    "    target_ix = i\n",
    "    available_ixs = list(range(1000))\n",
    "    del available_ixs[i]\n",
    "    labeled_examples = random.choices(available_ixs, k=32)\n",
    "\n",
    "    print(\"----------------------\")\n",
    "    print('true label ', df.iloc[target_ix][TARGET_COL])\n",
    "\n",
    "    while b - a >  tol:\n",
    "\n",
    "        print(a,b)\n",
    "\n",
    "        curr_df = df.copy()\n",
    "        cutoff = (a + b) / 2\n",
    "        curr_df[TARGET_COL] = (curr_df[TARGET_COL] >= cutoff).astype(int)\n",
    "\n",
    "        print(\"Class Balance \", curr_df[TARGET_COL].mean())\n",
    "        # curr_df = curr_df.astype(str)\n",
    "\n",
    "        output = inference_model.predict(\n",
    "            target_example = curr_df.iloc[[target_ix]],\n",
    "            target_colname = TARGET_COL,\n",
    "            target_choices = ['0', '1'],\n",
    "            max_new_tokens = 4,\n",
    "            labeled_examples = curr_df.iloc[labeled_examples],\n",
    "        )\n",
    "        print(output, type(output))\n",
    "        if output == '1':\n",
    "            a = cutoff\n",
    "        else:\n",
    "            b= cutoff\n",
    "\n",
    "    print(\"prediction \", cutoff)\n",
    "    preds.append(cutoff)"
   ]
  },
  {
   "cell_type": "code",
   "execution_count": 12,
   "id": "2f47213d",
   "metadata": {},
   "outputs": [
    {
     "data": {
      "text/plain": [
       "array([-1.38255652e-01,  8.36493110e-01,  3.09043537e-01,  5.19014367e-01,\n",
       "        8.14196226e-01,  1.83856783e+00, -4.89674183e-01,  1.36948292e+00,\n",
       "       -1.43168239e-01,  3.48871016e+00, -1.54894820e+00, -1.78174773e+00,\n",
       "        1.90083750e+00, -4.70129826e-01,  7.97554378e-01, -5.03396948e-01,\n",
       "        1.11490815e+00,  6.32501570e-01, -1.70759112e+00, -1.04435918e+00,\n",
       "       -2.64020650e+00,  1.11893241e+00,  4.21906168e-01, -2.42928785e+00,\n",
       "       -1.22119455e-01, -1.00613729e+00,  1.94430367e+00, -1.96180884e-01,\n",
       "       -1.38761935e+00, -1.71405263e+00,  1.91125475e-01,  3.34287114e-01,\n",
       "        1.44412816e+00,  3.33361040e+00,  4.63559284e-01, -1.92463386e+00,\n",
       "        2.59040740e-02, -4.51600053e-01,  4.16348501e-02, -1.94740949e+00,\n",
       "       -7.81341164e-01,  3.61280802e+00,  2.35410282e-01,  2.49328770e+00,\n",
       "       -1.32781046e+00,  6.03081461e-02,  1.77836565e+00,  1.67415836e+00,\n",
       "        2.31107964e+00,  1.30314816e+00,  8.37414533e-01,  1.40767082e+00,\n",
       "        5.46546567e-01, -1.44161399e+00,  6.02066767e-01, -2.70988662e+00,\n",
       "        1.24623730e+00,  3.54466938e-01, -2.18914940e+00,  2.17482225e+00,\n",
       "        6.04341197e-01, -1.49610804e+00,  1.05142609e+00,  3.37447551e-01,\n",
       "       -3.77142838e-01,  8.86552465e-01,  9.97647975e-01,  4.92282524e-01,\n",
       "       -2.63420720e-01, -1.31934454e+00,  1.40553206e+00,  2.33961604e+00,\n",
       "       -1.35558899e+00,  9.01714535e-01, -1.45852593e+00, -2.82005776e+00,\n",
       "       -2.03425646e+00, -1.05919069e+00, -3.87799537e+00, -1.66014501e-01,\n",
       "        1.84908012e+00,  5.35523654e-01, -2.75083232e-01, -1.46985291e+00,\n",
       "        2.91981651e-01, -1.99442169e+00,  3.95660377e-01, -3.00320168e-01,\n",
       "        1.06707531e+00,  1.42581203e+00, -1.65817838e+00, -2.46858596e+00,\n",
       "        1.02293243e+00,  4.00879878e-01,  1.99071729e+00, -7.09441888e-01,\n",
       "        1.65663399e+00, -7.71040458e-01,  7.41211181e-01, -8.89886516e-01,\n",
       "       -9.23770042e-01,  1.03504823e+00,  1.71195187e-01,  1.13587087e+00,\n",
       "       -3.06263201e+00, -2.41353370e-01, -7.31453757e-01,  4.90249215e-01,\n",
       "       -3.45660557e-02, -8.00864365e-01, -5.55319222e-01,  4.19039916e+00,\n",
       "        3.06337233e+00, -1.15113229e+00,  3.18295266e+00, -2.52276138e-01,\n",
       "        2.02503472e+00, -1.81895627e-02, -3.96720212e-01, -3.69762154e-01,\n",
       "        3.09708534e-01, -3.01514773e+00,  4.98856293e-01, -3.26872608e-01,\n",
       "       -3.29656263e+00,  4.41006535e-01, -3.38886712e-02,  5.41552554e-01,\n",
       "       -8.85067945e-01,  6.31383872e-01, -6.28852180e-01, -1.44498955e+00,\n",
       "        1.90957506e+00, -1.83874606e-01,  8.90707167e-01,  1.35300925e+00,\n",
       "        1.84388624e+00,  1.65842052e+00, -2.17994216e+00, -5.70010961e-01,\n",
       "       -2.46424739e+00, -2.00726385e+00,  1.66061585e+00,  7.42061861e-01,\n",
       "        7.10161748e-01,  4.31688908e-01,  1.68117755e+00, -1.12089550e+00,\n",
       "        7.18098901e-01, -7.70894709e-01, -2.77114844e-01, -2.15357567e+00,\n",
       "       -2.35377403e-01,  1.76053516e+00, -9.20638215e-01, -6.14530811e-01,\n",
       "        6.79868312e-01, -1.32775535e+00, -3.53604271e-01,  2.37280735e-01,\n",
       "        2.83676267e+00,  7.39558370e-01, -1.06495123e+00,  9.12320863e-01,\n",
       "        6.42303617e-01,  2.10428675e+00,  1.66424016e+00,  1.72504490e+00,\n",
       "        9.92309336e-01, -3.09324018e-01, -1.35695028e+00, -2.09677520e+00,\n",
       "        1.45123923e+00,  8.83620066e-01, -4.01961268e-01, -1.98668145e+00,\n",
       "        1.17071801e+00,  1.60143312e+00,  6.89388968e-01,  2.02965365e+00,\n",
       "        4.92828555e-01,  2.38384176e+00,  4.09359546e-01,  2.63364418e-01,\n",
       "       -3.77546189e-01, -3.29746341e-01, -1.46095423e+00, -1.16814022e+00,\n",
       "       -2.84505863e+00,  3.07614711e+00,  1.09754964e+00, -2.25691586e-01,\n",
       "       -9.46382342e-01,  1.77531882e+00, -1.06512523e+00,  5.57616767e-01,\n",
       "       -1.70473745e+00, -1.67582720e+00,  1.32659587e+00, -1.36167713e+00,\n",
       "        2.68468968e-01,  1.77486676e+00, -2.01310304e+00, -1.62619323e+00,\n",
       "        1.55595400e+00, -2.62889755e+00,  5.89467737e-01,  9.96221895e-01,\n",
       "       -4.68937987e-01,  1.34212703e+00, -7.55207189e-01,  2.51526345e-02,\n",
       "       -5.88985338e-02,  3.90004800e-01, -8.15827081e-01, -1.44200637e+00,\n",
       "       -6.71309262e-01, -1.07307810e+00, -3.00718166e-01, -1.29012933e+00,\n",
       "        6.14484227e-01, -6.49893752e-01,  1.43845267e-01, -2.21215578e+00,\n",
       "       -2.26810971e+00, -9.08813448e-01, -1.39654169e+00, -1.62874336e+00,\n",
       "        1.53558725e+00, -1.43178562e+00, -8.41764090e-01, -1.10652237e+00,\n",
       "       -2.32466037e-01,  3.53276753e+00, -5.85679660e-01, -5.38369561e-01,\n",
       "        5.77005363e-01, -1.96805465e+00, -7.85085169e-01, -1.22892338e+00,\n",
       "        2.32363733e-01,  1.31164366e+00,  3.07347558e+00, -1.43097973e+00,\n",
       "        1.81447365e+00, -5.65653550e-02, -1.65781152e+00, -7.80567741e-01,\n",
       "        1.66061072e+00, -8.75526382e-01, -1.86431850e+00,  5.10470475e-01,\n",
       "        9.56679573e-01,  2.47641549e+00, -1.33147237e-01, -4.45545078e-01,\n",
       "        4.84657473e-01,  6.39028289e-01, -2.21016053e+00,  2.39837418e-01,\n",
       "        1.92290437e+00,  1.48858391e+00,  1.34147739e+00, -9.56155031e-01,\n",
       "        9.87373569e-01, -1.03907175e+00, -2.10097176e+00, -1.78815843e+00,\n",
       "       -2.18331229e+00, -1.76399406e+00, -1.50520976e+00, -1.34228059e+00,\n",
       "        5.53615300e-01,  1.11012137e+00,  2.39284229e+00,  1.15781922e-01,\n",
       "       -6.77166382e-01,  3.84647204e-01,  3.23450577e-01,  1.62072918e-01,\n",
       "       -1.04123112e+00, -1.44432481e-02,  1.46162091e+00,  2.48407726e+00,\n",
       "       -1.74108847e+00, -1.65862210e-01, -8.23708425e-03, -1.77015777e+00,\n",
       "        1.41787505e+00, -5.70753279e-01,  3.85732250e-02, -1.17591740e+00,\n",
       "       -7.78518693e-01,  4.45893080e-01,  5.60666226e-02,  2.77145726e+00,\n",
       "        4.14538406e-01,  8.23763313e-01, -1.17932968e+00, -1.73975443e+00,\n",
       "        5.39878443e-01, -1.25260389e+00, -1.12876596e+00, -2.08185550e+00,\n",
       "        7.33732624e-01,  1.02023956e+00, -1.24128238e+00, -5.55159744e-01,\n",
       "       -6.73657043e-01,  4.50020157e-02,  2.83317291e-01,  1.83851266e+00,\n",
       "        1.50255201e+00, -4.56046721e-01, -3.95874074e-02, -1.96019270e+00,\n",
       "        5.41322693e-01,  2.44550574e+00, -2.81811347e-01,  1.13301327e+00,\n",
       "        1.09022067e+00,  4.47967593e-01, -2.54419930e-01, -5.19086560e-01,\n",
       "       -3.04953802e-01,  9.36166168e-01,  2.41801362e+00, -2.82891477e-01,\n",
       "       -3.13952589e+00, -1.30739549e+00,  1.79443277e-01, -1.28748026e+00,\n",
       "        2.71985920e+00,  2.06690347e+00, -2.16626833e+00, -2.04839887e+00,\n",
       "       -1.09555222e+00,  2.93598606e-01, -3.68883492e-01, -2.34772625e+00,\n",
       "        1.47142252e+00, -1.12959110e-01, -1.95778682e+00,  2.85058053e-01,\n",
       "       -1.91507715e+00, -2.13391449e+00,  2.03163077e+00, -1.05812511e-01,\n",
       "        8.34806244e-01,  2.34046982e+00,  1.44875017e+00,  2.03418321e+00,\n",
       "       -9.38769498e-02,  2.22607187e+00,  1.37627604e+00, -2.39581202e+00,\n",
       "       -1.13528545e+00,  2.29344946e+00,  1.23427303e+00,  3.81679722e+00,\n",
       "       -4.85636512e-01,  2.40409246e+00,  5.52745167e-01, -9.21004101e-01,\n",
       "        9.72785542e-01, -1.10952725e+00, -5.81425510e-01, -2.67434624e+00,\n",
       "        2.24189825e-01,  1.88720644e+00,  7.69635148e-01,  1.09933314e-01,\n",
       "       -9.07802658e-01,  5.15323015e-01,  5.28445860e-01,  2.32304626e+00,\n",
       "       -1.35703987e+00,  1.84678221e+00, -1.51385245e+00,  1.36499467e+00,\n",
       "        1.88363793e+00,  2.53766735e+00, -4.80924197e+00,  1.40184772e+00,\n",
       "        7.10367844e-01,  1.62499330e-01,  9.02376358e-02,  6.53190451e-01,\n",
       "       -1.26822603e+00,  1.28171131e-01,  1.22754409e+00,  9.83796250e-01,\n",
       "        1.58866094e+00, -6.25185192e-01, -1.16858513e+00, -8.16823051e-01,\n",
       "       -3.89616567e-01, -1.33449730e+00,  3.75751063e-01,  6.94850231e-01,\n",
       "       -9.38741553e-01,  8.71657403e-01,  3.49962757e+00, -1.22815154e+00,\n",
       "        3.76725970e-01, -6.19810639e-01,  4.38684952e-01, -1.00892338e+00,\n",
       "       -3.36781091e-01,  1.24746497e+00,  4.14440572e-01, -7.23387148e-02,\n",
       "       -5.17223608e-01, -1.56897240e-01, -1.47935271e+00, -1.08153658e-01,\n",
       "        1.22831972e+00,  1.54489749e+00,  1.06491632e+00, -2.50833978e-01,\n",
       "       -1.68610680e+00, -1.43095120e-01, -3.33952531e+00,  2.73942354e+00,\n",
       "        2.91531633e-02,  9.35832144e-01,  1.59434080e+00, -2.45001534e+00,\n",
       "        1.63920252e-01,  8.70517333e-01,  2.86829361e-01, -1.07976847e+00,\n",
       "       -1.22075467e+00, -1.21763253e+00, -1.22641023e+00, -1.15906937e+00,\n",
       "       -6.37213020e-01, -3.30612283e-01, -1.14387198e-01, -1.65170093e-01,\n",
       "       -4.86525718e-01,  3.26111770e-01, -4.76751189e-02,  9.52651016e-01,\n",
       "       -1.51017187e+00,  1.34433673e+00, -1.36073231e-01,  2.30425691e+00,\n",
       "       -6.42178094e-01, -1.12658602e-01,  1.18743853e+00, -1.77382053e+00,\n",
       "        1.58213637e+00,  8.33005340e-01,  2.82033447e-01,  3.72579320e-01,\n",
       "        6.80547806e-01,  2.73806411e+00,  6.16262060e-01,  5.42885649e-01,\n",
       "       -5.10065478e-01, -1.52653729e+00,  1.70504775e+00,  1.61373299e+00,\n",
       "        2.29392262e-02, -1.25303327e+00, -1.42913822e+00,  9.77151234e-01,\n",
       "       -1.80956982e+00, -8.55968353e-01, -1.59331292e+00, -5.90010329e-01,\n",
       "       -3.21331277e+00, -1.44814559e+00,  8.20391981e-02,  1.29036407e+00,\n",
       "       -8.79150616e-01, -2.42358319e+00, -1.40966203e+00,  6.96093619e-01,\n",
       "       -4.02983441e-01,  2.14830251e+00, -1.83927822e+00, -2.49828594e+00,\n",
       "       -1.07137027e-01, -1.03079582e+00,  3.54865558e-01, -1.81713061e+00,\n",
       "        1.70451626e+00, -9.00802568e-01, -8.89103171e-01, -1.18189212e-01,\n",
       "       -1.67394225e-01,  2.20630486e+00,  8.01082844e-01,  1.25242141e+00,\n",
       "        1.83915448e-02, -7.41923911e-01, -1.32052567e+00, -1.11867073e+00,\n",
       "       -9.89075435e-02,  4.88436418e-01,  1.24439759e+00, -2.38652477e+00,\n",
       "        6.20017895e-01, -1.61781071e-03, -2.49637123e+00,  6.78971401e-01,\n",
       "       -1.76038483e+00, -1.33796798e+00,  8.60575545e-01, -1.45422305e-01,\n",
       "       -7.81455886e-01,  3.53782182e-01, -1.70747975e+00,  1.37572421e+00,\n",
       "        1.59312091e+00,  7.30054720e-01,  6.80853481e-01,  5.88502905e-01,\n",
       "        2.57696509e+00, -5.53456756e-01,  5.62458540e-01,  1.00496700e+00,\n",
       "        2.08400608e+00,  1.60720149e+00, -1.36596147e+00, -6.82539232e-01,\n",
       "       -1.20456159e+00, -6.16524301e-01,  1.50092385e+00, -6.03750752e-01,\n",
       "        1.85419733e+00,  8.19405033e-01,  1.85138634e+00, -3.11441694e-01,\n",
       "        7.82441533e-01,  9.25409780e-02, -7.34440563e-02, -3.24357683e-01,\n",
       "        2.00588304e+00,  2.17231029e+00,  3.61143363e+00,  9.10972077e-01,\n",
       "        1.32231731e+00,  6.94636600e-01, -2.79971530e-01, -1.16847365e+00,\n",
       "        8.61155141e-01, -9.46718760e-01,  2.82226094e+00,  2.62269720e+00,\n",
       "       -2.19729580e+00, -2.79233847e-01, -5.56264296e-01, -4.79621003e-01,\n",
       "        2.46691469e+00,  9.33546981e-01, -1.22680043e+00, -2.32098692e+00,\n",
       "        2.36530727e-01, -1.30509799e+00,  3.20072366e-01, -2.54121389e+00,\n",
       "        1.01100202e+00,  9.99115934e-01,  2.36827915e-01, -7.49805485e-01,\n",
       "       -1.94585060e+00,  2.47051033e+00, -1.81845128e+00, -2.72233886e-01,\n",
       "        3.28009601e-01, -2.02469128e+00,  1.72785945e+00,  1.24444308e+00,\n",
       "        1.08712867e-01,  2.38358890e-01,  2.16111990e+00,  2.40309503e-01,\n",
       "       -2.38881411e+00,  9.16570488e-03,  7.52820521e-01,  1.68744079e+00,\n",
       "        1.18820940e+00, -1.57689387e+00,  6.17332736e-02, -1.28550848e+00,\n",
       "       -5.10420108e-01,  1.70244684e+00,  1.21128560e+00,  1.65846211e+00,\n",
       "       -1.21691213e+00,  1.66577404e-01,  7.19540591e-01, -9.89726873e-01,\n",
       "       -1.08645705e-01,  4.07692945e-01,  2.47769364e+00, -2.14014595e+00,\n",
       "       -1.67896908e+00, -3.48819231e-01, -4.00844588e-01, -5.65860130e-01,\n",
       "       -1.22181184e+00, -1.41136596e-01,  1.32791476e+00, -6.55658154e-01,\n",
       "        4.66840798e-01, -4.17816601e-01, -9.67227706e-01, -1.42093223e-01,\n",
       "       -8.89662800e-01, -1.74421363e-01,  2.56144972e-01,  1.30965563e+00,\n",
       "       -1.82750612e-01, -1.47229678e+00,  1.37843213e+00,  8.57389331e-01,\n",
       "       -1.66875198e+00,  1.52974441e-01, -3.44177357e-01, -5.06991644e-01,\n",
       "       -1.05533710e+00,  1.29837999e+00,  2.52891753e-01, -9.18362265e-01,\n",
       "       -3.44723438e+00,  7.56332988e-01, -4.97356409e-01, -2.37751741e+00,\n",
       "        3.87597849e+00, -2.77150985e-01, -1.72732227e+00,  4.73883668e-01,\n",
       "        8.63818074e-02, -1.20004778e+00, -2.60730859e-01,  1.94549282e+00,\n",
       "        4.22136622e-01, -1.66576253e+00, -2.11646576e+00,  1.59075346e+00,\n",
       "       -1.68244915e+00, -1.33463840e+00, -1.18999250e+00,  1.29945967e+00,\n",
       "       -1.93754352e+00,  2.95106145e+00,  1.15513660e+00, -7.16498437e-02,\n",
       "       -3.76917270e-01,  4.85436298e+00,  1.06649624e+00, -1.06092195e-01,\n",
       "       -1.38928840e+00,  1.39961007e+00,  1.59790581e+00,  8.10074249e-01,\n",
       "        9.10547803e-01,  3.04657207e-02,  1.71612886e+00,  5.12611804e-01,\n",
       "       -1.36046067e+00, -2.91011665e-01,  9.41100420e-02, -2.63445889e+00,\n",
       "        9.60277802e-02,  6.86527323e-01, -3.45062577e-01, -2.83507715e+00,\n",
       "        8.03435675e-01, -2.87284791e-01, -2.48919516e-01,  2.51513299e+00,\n",
       "       -2.38192696e+00,  1.19802936e+00, -2.16959974e+00, -5.73460434e-01,\n",
       "       -1.40232665e+00, -1.41380120e+00,  1.04223707e+00,  8.93487158e-01,\n",
       "        6.61759663e-01, -9.77605155e-02, -5.74612836e-01,  1.27013738e+00,\n",
       "        7.63199897e-02,  8.44257344e-01,  1.00211403e+00,  2.78829951e+00,\n",
       "        1.44343709e+00,  8.47891726e-01, -9.03044475e-01, -5.80963368e-01,\n",
       "        1.02987168e+00,  1.00868730e+00,  2.59634179e+00,  2.29364982e+00,\n",
       "        4.69306527e-01,  1.89061024e+00, -1.21211675e+00,  1.12485473e+00,\n",
       "       -1.08315830e-01, -1.90823582e-01, -1.65587900e+00,  3.70799595e-01,\n",
       "        1.25844444e+00, -2.86034490e-01, -9.61296922e-01,  1.04828795e+00,\n",
       "        2.73894003e-01, -1.72318387e+00,  1.51135564e+00,  7.87389488e-01,\n",
       "       -8.96662628e-01, -1.93465826e-02, -1.46071695e-01,  1.65867179e+00,\n",
       "       -2.67589886e-01, -3.97863825e-01,  2.34626439e-01, -7.31926264e-01,\n",
       "       -2.26440520e+00, -6.39358547e-01, -1.48719515e+00,  1.37599981e+00,\n",
       "       -6.03575780e-01, -1.86495429e+00,  3.45387912e+00, -1.68335640e+00,\n",
       "        1.42734005e+00, -1.24756237e+00,  2.10052698e+00, -8.01289149e-02,\n",
       "        7.94345054e-01,  4.41830081e-01,  8.68246618e-01, -3.25104364e-01,\n",
       "       -1.29737446e+00,  1.76151832e+00, -4.24283765e-01, -2.39981811e+00,\n",
       "        1.37811256e+00, -1.08507299e+00,  8.06579802e-01,  1.90329797e+00,\n",
       "       -1.61899161e-01,  1.03719608e+00, -2.66351612e-01,  1.22569695e+00,\n",
       "        5.36935977e-01,  8.97263875e-01, -3.17730302e+00, -1.49030316e+00,\n",
       "        1.24780553e-01,  7.39431389e-01,  1.80035414e+00, -1.45289162e+00,\n",
       "       -1.54144002e+00, -1.10502302e+00, -1.31277816e+00, -1.55222398e+00,\n",
       "       -5.82914051e-01, -1.39604506e+00, -8.05667018e-01,  8.14183551e-01,\n",
       "       -7.14001176e-02, -2.87472654e-01,  3.82250210e-01, -2.09515815e+00,\n",
       "        2.27661019e+00, -1.39430648e-02, -4.77564433e-01,  9.86617331e-01,\n",
       "       -9.86279207e-01,  2.00711500e+00,  4.41498371e-01, -5.10601242e-01,\n",
       "       -1.11771336e+00, -8.84263364e-01,  2.50205433e+00, -1.49967795e+00,\n",
       "        4.02693591e-01, -4.31354455e-01,  1.11147305e+00, -3.09731132e+00,\n",
       "        1.50399693e+00, -5.98601687e-01, -6.44525354e-01,  1.60948883e+00,\n",
       "        1.36759431e+00, -2.67412525e-01, -1.65122935e-01,  5.79885665e-01,\n",
       "        8.33381507e-01,  7.05085986e-01,  6.69451469e-01, -5.16828855e-01,\n",
       "       -8.97139673e-01,  4.06466350e-01,  3.04762340e+00,  6.84756456e-01,\n",
       "       -9.45687555e-01,  4.46564355e-01,  2.14627847e-01, -2.00623919e+00,\n",
       "       -2.26548127e-02, -1.47230799e+00,  3.27142264e+00,  3.31684082e-01,\n",
       "       -2.72965699e+00,  1.25242179e+00, -5.08823834e-01,  1.96080716e+00,\n",
       "       -1.56886617e+00, -3.57916177e-01, -2.34940065e+00,  1.48914032e+00,\n",
       "       -9.30718922e-01, -1.72323583e+00, -1.91791359e+00, -7.54223287e-01,\n",
       "        3.52162221e-01, -2.24698251e+00, -7.60074847e-01,  2.14716690e-01,\n",
       "       -1.88702058e+00, -8.36751378e-01, -5.73514730e-01,  8.69047817e-01,\n",
       "       -1.53127099e-01,  4.82094972e-01,  2.31076734e+00, -7.08698207e-01,\n",
       "        9.32321331e-01, -6.15534066e-01, -1.38043576e+00,  7.71734156e-01,\n",
       "       -7.88595036e-01,  1.57654797e-01,  1.21099017e-01, -9.98174029e-01,\n",
       "        9.32653127e-01, -1.58229892e+00, -6.17718962e-01, -1.69947786e+00,\n",
       "        8.77543227e-01,  1.78387136e+00, -1.59543847e+00, -1.02270192e+00,\n",
       "       -1.71435877e+00, -3.34291222e-01,  1.15813031e+00,  3.32533895e-01,\n",
       "        1.74309568e-01,  2.46844130e+00,  2.05635244e+00,  4.66122449e+00,\n",
       "        2.57179752e+00, -2.50316438e+00,  9.31275065e-01, -8.79941160e-01,\n",
       "       -1.44249408e+00,  2.72599621e+00, -2.04173299e+00, -1.13152689e+00,\n",
       "       -1.12080695e+00,  1.30064891e+00,  1.57704874e-01, -3.75484438e-02,\n",
       "        8.39590333e-02,  3.30039207e+00, -3.31862021e+00, -1.09653152e+00,\n",
       "        4.45614553e-01, -2.93746502e-01,  1.61056917e+00,  2.51943945e+00,\n",
       "        5.00620672e-01,  1.01222201e+00, -6.26932500e-01,  3.85288949e-01,\n",
       "        2.23504679e+00,  1.83535906e+00, -2.43730705e+00, -8.75994058e-01,\n",
       "        8.89225760e-01,  5.92683156e-01, -6.21742735e-02, -2.02538550e+00,\n",
       "       -1.74639912e+00,  7.32206092e-01,  3.62301477e-02, -1.22757900e-01,\n",
       "        8.63512641e-02,  8.79503005e-01,  3.54801203e-02, -1.07516728e+00])"
      ]
     },
     "execution_count": 12,
     "metadata": {},
     "output_type": "execute_result"
    }
   ],
   "source": [
    "y_pred"
   ]
  },
  {
   "cell_type": "code",
   "execution_count": 15,
   "id": "d013a041",
   "metadata": {},
   "outputs": [
    {
     "data": {
      "text/plain": [
       "0.8884556444074975"
      ]
     },
     "execution_count": 15,
     "metadata": {},
     "output_type": "execute_result"
    }
   ],
   "source": [
    "from sklearn.metrics import r2_score\n",
    "# Predict the target values\n",
    "theta_best, residuals, rank, s = np.linalg.lstsq(X[100:132], y[100:132], rcond=None)\n",
    "y_pred = X[200:].dot(theta_best)\n",
    "\n",
    "# Compute the R^2 score\n",
    "r2_score(y[200:], y_pred)"
   ]
  },
  {
   "cell_type": "code",
   "execution_count": 14,
   "id": "502c03c3",
   "metadata": {},
   "outputs": [
    {
     "data": {
      "text/plain": [
       "0.6518957700460635"
      ]
     },
     "execution_count": 14,
     "metadata": {},
     "output_type": "execute_result"
    }
   ],
   "source": [
    "r2_score(y[:50], preds)"
   ]
  },
  {
   "cell_type": "code",
   "execution_count": null,
   "id": "648264b0",
   "metadata": {},
   "outputs": [],
   "source": [
    "# predict example\n",
    "\n",
    "\n",
    "target_example = df.iloc[[102]]\n",
    "output = inference_model.predict(\n",
    "    target_example= target_example,\n",
    "    target_colname=TARGET_COL,\n",
    "    target_choices=TARGET_CHOICES,\n",
    "    max_new_tokens=10,\n",
    "    labeled_examples= df.iloc[[0]],\n",
    ")\n",
    "print(f\"Prediction for sample \\n {target_example} \\n is: {output}\")"
   ]
  },
  {
   "cell_type": "code",
   "execution_count": null,
   "id": "148c659b",
   "metadata": {},
   "outputs": [],
   "source": [
    "from datasets import load_dataset\n",
    "df_names = ['MagicTelescope', 'covertype', 'house_16H', 'Diabetes130US', 'Higgs']  \n",
    "df_list = []\n",
    "for name in df_names:     \n",
    "    dataset = load_dataset(\"inria-soda/tabular-benchmark\", data_files=\"clf_num/{}.csv\".format(name))\n",
    "    df = dataset['train'].to_pandas().astype(str).sample(frac=1).iloc[:1000]\n",
    "    df_list.append(df)"
   ]
  },
  {
   "cell_type": "code",
   "execution_count": null,
   "id": "c7419e50-1aab-4afe-a821-5d60422e3b87",
   "metadata": {},
   "outputs": [],
   "source": [
    "# df = pd.read_csv(\"../multiclass_logistic.csv\").astype(str)\n",
    "# TARGET_COL = 'y'\n",
    "# TARGET_CHOICES = list(df['y'].unique())"
   ]
  },
  {
   "cell_type": "code",
   "execution_count": null,
   "id": "ccfb3c95",
   "metadata": {},
   "outputs": [],
   "source": [
    "for df in df_list:\n",
    "    TARGET_COL = df.columns[-1]\n",
    "    TARGET_CHOICES = list(df[TARGET_COL].unique())\n",
    "    # print(TARGET_COL, TARGET_CHOICES)\n",
    "    target_example = df.iloc[[102]]\n",
    "    output = inference_model.predict(\n",
    "        target_example= target_example,\n",
    "        target_colname=TARGET_COL,\n",
    "        target_choices=TARGET_CHOICES,\n",
    "        max_new_tokens=10,\n",
    "        labeled_examples= df.iloc[[0]],\n",
    "    )\n",
    "    print(f\"Prediction for sample \\n {target_example} \\n is: {output}\")"
   ]
  },
  {
   "cell_type": "code",
   "execution_count": null,
   "id": "8456fe17",
   "metadata": {},
   "outputs": [],
   "source": [
    "for i, df in enumerate(df_list):    \n",
    "    \n",
    "    TARGET_COL = df.columns[-1]\n",
    "    TARGET_CHOICES = list(df[TARGET_COL].unique())\n",
    "\n",
    "    df_embeddings = get_embeddings(inference_model, df, TARGET_COL, TARGET_CHOICES)\n",
    "    N = 1000\n",
    "    NUM_SHOTS = [2, 8]\n",
    "    # df = binary_df \n",
    "    results_df = []\n",
    "    for num_shots in NUM_SHOTS:\n",
    "        for use_rices in [True, False]:\n",
    "            acc = get_acc(df.iloc[:N], df_embeddings[:N], num_shots, use_rices, TARGET_COL, TARGET_CHOICES)\n",
    "            ci = proportion_confint(int(acc * N), N, alpha=0.05, method='beta')\n",
    "            res = {\"RICES\": use_rices, \"num_shots\": num_shots, \"acc\": acc, 'n_test': N, 'ci': ci}\n",
    "            print(res)\n",
    "            results_df.append(res)\n",
    "\n",
    "    results_df = pd.DataFrame(results_df)\n",
    "    results_df.to_csv('{}_rices_{}.csv'.format(df_names[i], N), index=False)"
   ]
  },
  {
   "cell_type": "code",
   "execution_count": null,
   "id": "5e0b5a50",
   "metadata": {},
   "outputs": [],
   "source": []
  },
  {
   "cell_type": "code",
   "execution_count": null,
   "id": "afe04ca8",
   "metadata": {},
   "outputs": [],
   "source": [
    "results_df"
   ]
  },
  {
   "cell_type": "code",
   "execution_count": null,
   "id": "7766c123",
   "metadata": {},
   "outputs": [],
   "source": [
    "n=100\n",
    "proportion_confint(int(.8 * n), n, alpha=0.05, method='beta')"
   ]
  },
  {
   "cell_type": "code",
   "execution_count": null,
   "id": "9e4d4af9",
   "metadata": {},
   "outputs": [],
   "source": []
  }
 ],
 "metadata": {
  "kernelspec": {
   "display_name": "Python 3 (ipykernel)",
   "language": "python",
   "name": "python3"
  },
  "language_info": {
   "codemirror_mode": {
    "name": "ipython",
    "version": 3
   },
   "file_extension": ".py",
   "mimetype": "text/x-python",
   "name": "python",
   "nbconvert_exporter": "python",
   "pygments_lexer": "ipython3",
   "version": "3.8.19"
  }
 },
 "nbformat": 4,
 "nbformat_minor": 5
}
